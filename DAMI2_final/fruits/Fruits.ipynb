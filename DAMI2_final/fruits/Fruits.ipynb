{
 "cells": [
  {
   "cell_type": "code",
   "execution_count": 1,
   "metadata": {
    "scrolled": true
   },
   "outputs": [],
   "source": [
    "##Option1 is the script where we divided the training set into train and validation set\n",
    "\n",
    "\n",
    "# Loading required libraries:\n",
    "## Sklearn modules\n",
    "from sklearn.metrics import classification_report \n",
    "from sklearn.metrics import confusion_matrix \n",
    "from sklearn.metrics import accuracy_score \n",
    "\n",
    "###modules for preprocessing, training, test data and validation\n",
    "from sklearn.model_selection import train_test_split, GridSearchCV\n",
    "from sklearn.preprocessing import StandardScaler\n",
    "from sklearn.model_selection import train_test_split \n",
    "from sklearn.model_selection import KFold \n",
    "from sklearn.model_selection import cross_val_score\n",
    "from sklearn import metrics\n",
    "from sklearn.impute import KNNImputer\n",
    "from sklearn.impute import SimpleImputer\n",
    "from sklearn.pipeline import Pipeline\n",
    "## Classification\n",
    "from sklearn.neighbors import KNeighborsClassifier, NeighborhoodComponentsAnalysis, LocalOutlierFactor\n",
    "from sklearn.decomposition import PCA\n",
    "\n",
    "##PLotting modules\n",
    "import pandas as pd\n",
    "pd.set_option('display.max_rows', None)\n",
    "pd.set_option('display.max_columns', None)\n",
    "pd.set_option('display.width', None)\n",
    "import matplotlib.pyplot as plt\n",
    "from matplotlib.legend_handler import HandlerBase\n",
    "from matplotlib.text import Text\n",
    "import numpy as np\n",
    "import seaborn as sns\n",
    "import plotly.offline as pyo \n",
    "import plotly.graph_objs as go\n",
    "import plotly.figure_factory as ff\n",
    "from matplotlib.colors import ListedColormap"
   ]
  },
  {
   "cell_type": "code",
   "execution_count": 2,
   "metadata": {},
   "outputs": [
    {
     "data": {
      "text/html": [
       "<div>\n",
       "<style scoped>\n",
       "    .dataframe tbody tr th:only-of-type {\n",
       "        vertical-align: middle;\n",
       "    }\n",
       "\n",
       "    .dataframe tbody tr th {\n",
       "        vertical-align: top;\n",
       "    }\n",
       "\n",
       "    .dataframe thead th {\n",
       "        text-align: right;\n",
       "    }\n",
       "</style>\n",
       "<table border=\"1\" class=\"dataframe\">\n",
       "  <thead>\n",
       "    <tr style=\"text-align: right;\">\n",
       "      <th></th>\n",
       "      <th>fruit_label</th>\n",
       "      <th>fruit_name</th>\n",
       "      <th>fruit_subtype</th>\n",
       "      <th>mass</th>\n",
       "      <th>width</th>\n",
       "      <th>height</th>\n",
       "      <th>color_score</th>\n",
       "    </tr>\n",
       "  </thead>\n",
       "  <tbody>\n",
       "    <tr>\n",
       "      <th>0</th>\n",
       "      <td>1</td>\n",
       "      <td>apple</td>\n",
       "      <td>granny_smith</td>\n",
       "      <td>192</td>\n",
       "      <td>8.4</td>\n",
       "      <td>7.3</td>\n",
       "      <td>0.55</td>\n",
       "    </tr>\n",
       "    <tr>\n",
       "      <th>1</th>\n",
       "      <td>1</td>\n",
       "      <td>apple</td>\n",
       "      <td>granny_smith</td>\n",
       "      <td>180</td>\n",
       "      <td>8.0</td>\n",
       "      <td>6.8</td>\n",
       "      <td>0.59</td>\n",
       "    </tr>\n",
       "    <tr>\n",
       "      <th>2</th>\n",
       "      <td>1</td>\n",
       "      <td>apple</td>\n",
       "      <td>granny_smith</td>\n",
       "      <td>176</td>\n",
       "      <td>7.4</td>\n",
       "      <td>7.2</td>\n",
       "      <td>0.60</td>\n",
       "    </tr>\n",
       "    <tr>\n",
       "      <th>3</th>\n",
       "      <td>2</td>\n",
       "      <td>mandarin</td>\n",
       "      <td>mandarin</td>\n",
       "      <td>86</td>\n",
       "      <td>6.2</td>\n",
       "      <td>4.7</td>\n",
       "      <td>0.80</td>\n",
       "    </tr>\n",
       "    <tr>\n",
       "      <th>4</th>\n",
       "      <td>2</td>\n",
       "      <td>mandarin</td>\n",
       "      <td>mandarin</td>\n",
       "      <td>84</td>\n",
       "      <td>6.0</td>\n",
       "      <td>4.6</td>\n",
       "      <td>0.79</td>\n",
       "    </tr>\n",
       "  </tbody>\n",
       "</table>\n",
       "</div>"
      ],
      "text/plain": [
       "   fruit_label fruit_name fruit_subtype  mass  width  height  color_score\n",
       "0            1      apple  granny_smith   192    8.4     7.3         0.55\n",
       "1            1      apple  granny_smith   180    8.0     6.8         0.59\n",
       "2            1      apple  granny_smith   176    7.4     7.2         0.60\n",
       "3            2   mandarin      mandarin    86    6.2     4.7         0.80\n",
       "4            2   mandarin      mandarin    84    6.0     4.6         0.79"
      ]
     },
     "execution_count": 2,
     "metadata": {},
     "output_type": "execute_result"
    }
   ],
   "source": [
    "#Loading data\n",
    "data = pd.read_table(\"fruit_data_with_colors.txt\")\n",
    "data.head() "
   ]
  },
  {
   "cell_type": "code",
   "execution_count": 3,
   "metadata": {},
   "outputs": [
    {
     "name": "stdout",
     "output_type": "stream",
     "text": [
      "Number of rows 59\n",
      "Number of columns 7\n"
     ]
    }
   ],
   "source": [
    "## data shape\n",
    "row, columns = data.shape \n",
    "print ('Number of rows', row)\n",
    "print ('Number of columns', columns)"
   ]
  },
  {
   "cell_type": "code",
   "execution_count": 4,
   "metadata": {},
   "outputs": [
    {
     "name": "stdout",
     "output_type": "stream",
     "text": [
      "             count        mean        std    min     25%     50%     75%  \\\n",
      "fruit_label   59.0    2.542373   1.208048   1.00    1.00    3.00    4.00   \n",
      "mass          59.0  163.118644  55.018832  76.00  140.00  158.00  177.00   \n",
      "width         59.0    7.105085   0.816938   5.80    6.60    7.20    7.50   \n",
      "height        59.0    7.693220   1.361017   4.00    7.20    7.60    8.20   \n",
      "color_score   59.0    0.762881   0.076857   0.55    0.72    0.75    0.81   \n",
      "\n",
      "                max  \n",
      "fruit_label    4.00  \n",
      "mass         362.00  \n",
      "width          9.60  \n",
      "height        10.50  \n",
      "color_score    0.93  \n"
     ]
    }
   ],
   "source": [
    "# Data descriptions \n",
    "print(data.describe().T)"
   ]
  },
  {
   "cell_type": "code",
   "execution_count": 5,
   "metadata": {},
   "outputs": [
    {
     "name": "stdout",
     "output_type": "stream",
     "text": [
      "fruit_label        int64\n",
      "fruit_name        object\n",
      "fruit_subtype     object\n",
      "mass               int64\n",
      "width            float64\n",
      "height           float64\n",
      "color_score      float64\n",
      "dtype: object\n"
     ]
    }
   ],
   "source": [
    "#data types\n",
    "print (data.dtypes)"
   ]
  },
  {
   "cell_type": "code",
   "execution_count": 6,
   "metadata": {},
   "outputs": [],
   "source": [
    "##copying data\n",
    "data_copy= data.copy(deep=True)"
   ]
  },
  {
   "cell_type": "code",
   "execution_count": 7,
   "metadata": {},
   "outputs": [
    {
     "name": "stdout",
     "output_type": "stream",
     "text": [
      "Column name Apple Mandarin orange lemon: fruit_label\n",
      "1    19\n",
      "2     5\n",
      "3    19\n",
      "4    16\n",
      "dtype: int64\n"
     ]
    }
   ],
   "source": [
    "# Coulumn with categorical values\n",
    "data_size=data_copy.groupby('fruit_label').size()\n",
    "print ('Column name', 'Apple','Mandarin','orange' ,'lemon'':', data_size)"
   ]
  },
  {
   "cell_type": "code",
   "execution_count": 8,
   "metadata": {},
   "outputs": [
    {
     "data": {
      "text/plain": [
       "array(['apple', 'mandarin', 'orange', 'lemon'], dtype=object)"
      ]
     },
     "execution_count": 8,
     "metadata": {},
     "output_type": "execute_result"
    }
   ],
   "source": [
    "data_copy['fruit_name'].unique()"
   ]
  },
  {
   "cell_type": "code",
   "execution_count": 9,
   "metadata": {},
   "outputs": [
    {
     "data": {
      "image/png": "[encoded data removed]",
      "text/plain": [
       "<Figure size 1080x576 with 1 Axes>"
      ]
     },
     "metadata": {
      "needs_background": "light"
     },
     "output_type": "display_data"
    }
   ],
   "source": [
    "class TextHandler(HandlerBase):\n",
    "    def create_artists(self, legend, tup ,xdescent, ydescent,\n",
    "                        width, height, fontsize,trans):\n",
    "        tx = Text(width/2.,height/2,tup[0], fontsize=fontsize,\n",
    "                  ha=\"center\", va=\"center\", color=tup[1], fontweight=\"bold\")\n",
    "        return [tx]\n",
    "## Bar plot for Column diagnosis\n",
    "sns.set_style()\n",
    "plt.figure(figsize=(15,8))\n",
    "ax=sns.countplot(x='fruit_label',data=data_copy)\n",
    "textname= \"1 2 3 4\".split()\n",
    "labels= ['apple', 'mandarin', 'orange', 'lemon']\n",
    "t = ax.get_xticklabels()\n",
    "labeldic = dict(zip(textname, labels))\n",
    "labels = [labeldic[h.get_text()]  for h in t]\n",
    "# print (labels)\n",
    "# handles = [(h.get_text(),c.get_fc()) for h,c in zip(t,ax.patches)]\n",
    "handles_list=[]\n",
    "for h,c in zip(t,ax.patches):\n",
    "    handles = h.get_text(),c.get_fc()\n",
    "    handles_list.append(handles)\n",
    "\n",
    "\n",
    "\n",
    "ax.legend(handles_list, labels, handler_map={tuple : TextHandler()}) \n",
    "plt.show()"
   ]
  },
  {
   "cell_type": "code",
   "execution_count": 10,
   "metadata": {},
   "outputs": [],
   "source": [
    "## creating training and test data set\n",
    "x = data_copy[['mass','width','height']]\n",
    "\n",
    "y= data_copy['fruit_label']"
   ]
  },
  {
   "cell_type": "code",
   "execution_count": 11,
   "metadata": {},
   "outputs": [
    {
     "name": "stdout",
     "output_type": "stream",
     "text": [
      "        mass     width    height\n",
      "0   0.529442  1.598690 -0.291397\n",
      "1   0.309462  1.104854 -0.661922\n",
      "2   0.236136  0.364100 -0.365502\n",
      "3  -1.413709 -1.117409 -2.218131\n",
      "4  -1.450372 -1.364327 -2.292236\n",
      "5  -1.523699 -1.611245 -2.514552\n",
      "6  -1.523699 -1.487786 -2.514552\n",
      "7  -1.597025 -1.611245 -2.736867\n",
      "8   0.272799 -0.006278  0.079129\n",
      "9   0.162810  0.364100 -0.513712\n",
      "10  0.052820 -0.253196 -0.291397\n",
      "11  0.162810 -0.006278 -0.069081\n",
      "12 -0.167159 -0.129737 -0.439607\n",
      "13  0.016157  0.240641  0.005024\n",
      "14 -0.203823  0.611018 -0.291397\n",
      "15 -0.130496  0.734477 -0.439607\n",
      "16 -0.130496  0.611018 -0.143186\n",
      "17  0.089483  0.487559 -0.069081\n",
      "18 -0.020507  0.487559 -0.439607\n",
      "19 -0.020507  0.364100 -0.365502\n",
      "20 -0.057170  0.487559 -0.143186\n",
      "21 -0.130496  0.364100 -0.217291\n",
      "22 -0.423802  0.240641 -0.439607\n",
      "23  0.126146  0.611018  0.153234\n",
      "24  3.279183  2.339445  1.264812\n",
      "25  3.535826  2.586363  1.116602\n",
      "26  3.645816  3.080199  1.116602\n",
      "27  0.749421  0.487559  1.116602\n",
      "28 -0.423802 -0.500114 -0.439607\n",
      "29 -0.057170 -0.129737 -0.217291\n",
      "30 -0.093833 -0.006278 -0.143186\n",
      "31  0.859411  0.857936  0.227340\n",
      "32  0.016157  0.117181 -0.513712\n",
      "33  0.492779  0.487559  0.301445\n",
      "34 -0.387139  0.611018  0.079129\n",
      "35 -0.240486 -0.006278  0.153234\n",
      "36 -0.057170 -0.006278 -0.069081\n",
      "37 -0.167159  0.240641 -0.291397\n",
      "38 -0.093833  0.117181  0.079129\n",
      "39 -0.350476 -0.376655 -0.217291\n",
      "40 -0.167159 -0.006278 -0.143186\n",
      "41  0.309462  0.611018  0.375550\n",
      "42 -0.167159  0.117181 -0.365502\n",
      "43  0.566105  0.117181  1.931758\n",
      "44  0.676095  0.240641  2.079969\n",
      "45  0.419452  0.117181  1.116602\n",
      "46  0.969400  0.240641  1.857653\n",
      "47  0.602768  0.240641  1.487127\n",
      "48  0.199473  0.240641  1.783548\n",
      "49 -0.570455 -1.611245  0.746076\n",
      "50 -0.607118 -1.364327  0.375550\n",
      "51 -0.863761 -1.364327 -0.143186\n",
      "52 -0.827097 -1.487786  0.227340\n",
      "53 -0.790434 -1.364327  0.523760\n",
      "54 -0.863761 -1.240868  0.597865\n",
      "55 -0.863761 -0.993950  0.005024\n",
      "56 -0.863761 -1.487786  0.301445\n",
      "57 -0.203823 -0.747032  0.597865\n",
      "58 -0.827097 -1.240868  0.301445\n"
     ]
    }
   ],
   "source": [
    "#scaling the values using Standard Scalar Library\n",
    "from sklearn import preprocessing\n",
    "x=preprocessing.StandardScaler().fit(x).transform(x.astype(float))\n",
    "print (pd.DataFrame(x, columns=['mass','width','height']))"
   ]
  },
  {
   "cell_type": "code",
   "execution_count": 12,
   "metadata": {},
   "outputs": [
    {
     "name": "stdout",
     "output_type": "stream",
     "text": [
      "x_train: 41\n",
      "x_test: 18\n",
      "y_train: 41\n",
      "y_test: 18\n"
     ]
    }
   ],
   "source": [
    "#Spliting test datase as 30%\n",
    "x_train, x_test, y_train, y_test = train_test_split(x,y,test_size=0.3, random_state=0) \n",
    "print ('x_train:',len(x_train))\n",
    "print ('x_test:',len(x_test))\n",
    "print ('y_train:',len(y_train))\n",
    "print ('y_test:',len(y_test))"
   ]
  },
  {
   "cell_type": "code",
   "execution_count": 13,
   "metadata": {
    "scrolled": false
   },
   "outputs": [
    {
     "name": "stdout",
     "output_type": "stream",
     "text": [
      "1\n",
      "3\n",
      "5\n",
      "7\n",
      "9\n",
      "11\n",
      "13\n",
      "15\n",
      "17\n"
     ]
    },
    {
     "name": "stderr",
     "output_type": "stream",
     "text": [
      "/usr/local/lib/python3.8/site-packages/sklearn/model_selection/_split.py:666: UserWarning:\n",
      "\n",
      "The least populated class in y has only 3 members, which is less than n_splits=10.\n",
      "\n",
      "/usr/local/lib/python3.8/site-packages/sklearn/model_selection/_split.py:666: UserWarning:\n",
      "\n",
      "The least populated class in y has only 3 members, which is less than n_splits=10.\n",
      "\n",
      "/usr/local/lib/python3.8/site-packages/sklearn/model_selection/_split.py:666: UserWarning:\n",
      "\n",
      "The least populated class in y has only 3 members, which is less than n_splits=10.\n",
      "\n",
      "/usr/local/lib/python3.8/site-packages/sklearn/model_selection/_split.py:666: UserWarning:\n",
      "\n",
      "The least populated class in y has only 3 members, which is less than n_splits=10.\n",
      "\n",
      "/usr/local/lib/python3.8/site-packages/sklearn/model_selection/_split.py:666: UserWarning:\n",
      "\n",
      "The least populated class in y has only 3 members, which is less than n_splits=10.\n",
      "\n",
      "/usr/local/lib/python3.8/site-packages/sklearn/model_selection/_split.py:666: UserWarning:\n",
      "\n",
      "The least populated class in y has only 3 members, which is less than n_splits=10.\n",
      "\n",
      "/usr/local/lib/python3.8/site-packages/sklearn/model_selection/_split.py:666: UserWarning:\n",
      "\n",
      "The least populated class in y has only 3 members, which is less than n_splits=10.\n",
      "\n",
      "/usr/local/lib/python3.8/site-packages/sklearn/model_selection/_split.py:666: UserWarning:\n",
      "\n",
      "The least populated class in y has only 3 members, which is less than n_splits=10.\n",
      "\n",
      "/usr/local/lib/python3.8/site-packages/sklearn/model_selection/_split.py:666: UserWarning:\n",
      "\n",
      "The least populated class in y has only 3 members, which is less than n_splits=10.\n",
      "\n"
     ]
    },
    {
     "name": "stdout",
     "output_type": "stream",
     "text": [
      "19\n",
      "21\n",
      "23\n",
      "25\n",
      "27\n",
      "29\n",
      "[0.755, 0.805, 0.76, 0.735, 0.635, 0.585, 0.61, 0.61, 0.61, 0.61, 0.61, 0.5599999999999999, 0.43499999999999994, 0.41, 0.385]\n",
      "The maximum cross validation score is 0.805 at K = 3\n",
      "The minimum error rate is 0.19499999999999995 at K = 3\n"
     ]
    },
    {
     "name": "stderr",
     "output_type": "stream",
     "text": [
      "/usr/local/lib/python3.8/site-packages/sklearn/model_selection/_split.py:666: UserWarning:\n",
      "\n",
      "The least populated class in y has only 3 members, which is less than n_splits=10.\n",
      "\n",
      "/usr/local/lib/python3.8/site-packages/sklearn/model_selection/_split.py:666: UserWarning:\n",
      "\n",
      "The least populated class in y has only 3 members, which is less than n_splits=10.\n",
      "\n",
      "/usr/local/lib/python3.8/site-packages/sklearn/model_selection/_split.py:666: UserWarning:\n",
      "\n",
      "The least populated class in y has only 3 members, which is less than n_splits=10.\n",
      "\n",
      "/usr/local/lib/python3.8/site-packages/sklearn/model_selection/_split.py:666: UserWarning:\n",
      "\n",
      "The least populated class in y has only 3 members, which is less than n_splits=10.\n",
      "\n",
      "/usr/local/lib/python3.8/site-packages/sklearn/model_selection/_split.py:666: UserWarning:\n",
      "\n",
      "The least populated class in y has only 3 members, which is less than n_splits=10.\n",
      "\n",
      "/usr/local/lib/python3.8/site-packages/sklearn/model_selection/_split.py:666: UserWarning:\n",
      "\n",
      "The least populated class in y has only 3 members, which is less than n_splits=10.\n",
      "\n"
     ]
    },
    {
     "data": {
      "image/png": "[encoded data removed]",
      "text/plain": [
       "<Figure size 1080x576 with 1 Axes>"
      ]
     },
     "metadata": {
      "needs_background": "light"
     },
     "output_type": "display_data"
    },
    {
     "data": {
      "image/png": "[encoded data removed]",
      "text/plain": [
       "<Figure size 1080x576 with 1 Axes>"
      ]
     },
     "metadata": {
      "needs_background": "light"
     },
     "output_type": "display_data"
    }
   ],
   "source": [
    "## KNN cross validation for K value\n",
    "For_graph={}\n",
    "cross_valscores_list=[]\n",
    "error_rate_list = []\n",
    "k_number=[]\n",
    "for i in range(1,30,2):\n",
    "    print (i)\n",
    "    knn=KNeighborsClassifier(n_neighbors=i, weights= 'uniform', algorithm = 'auto')\n",
    "    cross_val= cross_val_score(knn, x_train, y_train, cv=10, scoring = 'accuracy')\n",
    "    cross_valscores_list.append(cross_val.mean())\n",
    "    error_rate_list.append(1-cross_val.mean())\n",
    "    cross_valscores_dictdata= (i,cross_val.mean(),1-cross_val.mean(),'Fruit')\n",
    "    k_number.append(i)\n",
    "    For_graph.setdefault('Fruit', []).append(cross_valscores_dictdata)\n",
    "\n",
    "print (cross_valscores_list)\n",
    "\n",
    "plt.figure(figsize=(15,8))\n",
    "plt.plot(range(1,30,2), cross_valscores_list, color = 'black', linestyle='dashed', marker = 'D', markerfacecolor = 'blue', markersize = 12)\n",
    "\n",
    "plt.title('Accuracy score vs K value (Fruit Data set)')\n",
    "plt.xlabel('K value')\n",
    "plt.ylabel('Cross validation score')\n",
    "\n",
    "print (\"The maximum cross validation score is {} at K = {}\".format(max(cross_valscores_list), k_number[cross_valscores_list.index(max(cross_valscores_list))]))\n",
    "\n",
    "plt.figure(figsize=(15,8))\n",
    "plt.plot(range(1,30,2), error_rate_list, color = 'black', linestyle='dashed', marker = 'o', markerfacecolor = 'blue', markersize = 12)\n",
    "\n",
    "plt.title('Error rate (cross validation) vs K value (Fruit Data Set)')\n",
    "plt.xlabel('K value')\n",
    "plt.ylabel('Error rate')\n",
    "\n",
    "print (\"The minimum error rate is {} at K = {}\".format(min(error_rate_list), k_number[error_rate_list.index(min(error_rate_list))]))\n",
    "\n",
    "fruit_df=pd.DataFrame(For_graph)\n",
    "#Diabetes_df\n",
    "#Diabetes_df.to_excel('Diabetes_df.xlsx')\n",
    "fruit_df.to_excel(\"fruit_df.xlsx\",sheet_name='Sheet_name_1')  \n"
   ]
  },
  {
   "cell_type": "code",
   "execution_count": 15,
   "metadata": {},
   "outputs": [
    {
     "name": "stdout",
     "output_type": "stream",
     "text": [
      "uniform\n",
      "The selected optimum K is: 3\n",
      "[[2 0 2 0]\n",
      " [0 2 0 0]\n",
      " [3 0 6 0]\n",
      " [0 0 0 3]]\n"
     ]
    },
    {
     "data": {
      "image/png": "[encoded data removed]",
      "text/plain": [
       "<Figure size 1080x576 with 1 Axes>"
      ]
     },
     "metadata": {
      "needs_background": "light"
     },
     "output_type": "display_data"
    },
    {
     "name": "stdout",
     "output_type": "stream",
     "text": [
      "              precision    recall  f1-score   support\n",
      "\n",
      "           1       0.40      0.50      0.44         4\n",
      "           2       1.00      1.00      1.00         2\n",
      "           3       0.75      0.67      0.71         9\n",
      "           4       1.00      1.00      1.00         3\n",
      "\n",
      "    accuracy                           0.72        18\n",
      "   macro avg       0.79      0.79      0.79        18\n",
      "weighted avg       0.74      0.72      0.73        18\n",
      "\n",
      "****\n",
      "distance\n",
      "The selected optimum K is: 3\n",
      "[[2 0 2 0]\n",
      " [0 2 0 0]\n",
      " [3 0 6 0]\n",
      " [0 0 0 3]]\n"
     ]
    },
    {
     "data": {
      "image/png": "[encoded data removed]",
      "text/plain": [
       "<Figure size 1080x576 with 1 Axes>"
      ]
     },
     "metadata": {
      "needs_background": "light"
     },
     "output_type": "display_data"
    },
    {
     "name": "stdout",
     "output_type": "stream",
     "text": [
      "              precision    recall  f1-score   support\n",
      "\n",
      "           1       0.40      0.50      0.44         4\n",
      "           2       1.00      1.00      1.00         2\n",
      "           3       0.75      0.67      0.71         9\n",
      "           4       1.00      1.00      1.00         3\n",
      "\n",
      "    accuracy                           0.72        18\n",
      "   macro avg       0.79      0.79      0.79        18\n",
      "weighted avg       0.74      0.72      0.73        18\n",
      "\n",
      "****\n"
     ]
    }
   ],
   "source": [
    "## selecting K  from cross validation\n",
    "for weights in [\"uniform\", \"distance\"]:\n",
    "    print (weights)\n",
    "    selected_k= k_number[error_rate_list.index(min(error_rate_list))]\n",
    "    print ('The selected optimum K is:',selected_k)\n",
    "    knn_neighnour=KNeighborsClassifier(n_neighbors=selected_k, weights= weights, algorithm = 'auto')\n",
    "    knn_neighnour.fit(x_train, y_train)\n",
    "    y_predict = knn_neighnour.predict(x_test)\n",
    "    print(confusion_matrix(y_test,y_predict))\n",
    "    cm= confusion_matrix(y_test,y_predict)\n",
    "    df = pd.DataFrame(cm, index= ['apple', 'mandarin', 'orange', 'lemon'], columns = ['apple', 'mandarin', 'orange', 'lemon'])\n",
    "    \n",
    "    plt.figure(figsize=(15,8))\n",
    "    sns.heatmap(df, annot = True, cbar = False, fmt = '.1f', linewidths = .3, square = True, cmap='YlGnBu');\n",
    "    plt.ylabel('Actual label');\n",
    "    plt.xlabel('Predicted label');\n",
    "    plt.title('Confusion Matrix using {} method'.format(weights), size = 15 );\n",
    "    b,t = plt.ylim()\n",
    "    b += 0.5\n",
    "    t-= 0.5\n",
    "    plt.ylim(b,t)\n",
    "    plt.show()\n",
    "    \n",
    "    \n",
    "    \n",
    "    print(classification_report(y_test,y_predict))  \n",
    "    print ('*'*4)\n",
    "    "
   ]
  },
  {
   "cell_type": "code",
   "execution_count": null,
   "metadata": {},
   "outputs": [],
   "source": []
  },
  {
   "cell_type": "code",
   "execution_count": null,
   "metadata": {},
   "outputs": [],
   "source": []
  }
 ],
 "metadata": {
  "kernelspec": {
   "display_name": "Python 3",
   "language": "python",
   "name": "python3"
  },
  "language_info": {
   "codemirror_mode": {
    "name": "ipython",
    "version": 3
   },
   "file_extension": ".py",
   "mimetype": "text/x-python",
   "name": "python",
   "nbconvert_exporter": "python",
   "pygments_lexer": "ipython3",
   "version": "3.8.5"
  }
 },
 "nbformat": 4,
 "nbformat_minor": 4
}
