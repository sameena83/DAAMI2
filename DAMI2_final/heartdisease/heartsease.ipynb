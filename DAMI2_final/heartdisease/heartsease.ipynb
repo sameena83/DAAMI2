{
 "cells": [
  {
   "cell_type": "code",
   "execution_count": 1,
   "metadata": {},
   "outputs": [],
   "source": [
    "# Loading required libraries:\n",
    "## Sklearn modules\n",
    "from sklearn.metrics import classification_report \n",
    "from sklearn.metrics import confusion_matrix \n",
    "from sklearn.metrics import accuracy_score \n",
    "\n",
    "###modules for preprocessing, training, test data and validation\n",
    "from sklearn.model_selection import train_test_split, GridSearchCV\n",
    "from sklearn.preprocessing import StandardScaler\n",
    "from sklearn.model_selection import train_test_split \n",
    "from sklearn.model_selection import KFold \n",
    "from sklearn.model_selection import cross_val_score\n",
    "from sklearn import metrics\n",
    "from sklearn.impute import KNNImputer\n",
    "from sklearn.pipeline import Pipeline\n",
    "## Classification\n",
    "from sklearn.neighbors import KNeighborsClassifier, NeighborhoodComponentsAnalysis, LocalOutlierFactor\n",
    "from sklearn.decomposition import PCA\n",
    "\n",
    "##PLotting modules\n",
    "import pandas as pd\n",
    "pd.set_option('display.max_rows', None)\n",
    "pd.set_option('display.max_columns', None)\n",
    "pd.set_option('display.width', None)\n",
    "import matplotlib.pyplot as plt\n",
    "from matplotlib.legend_handler import HandlerBase\n",
    "from matplotlib.text import Text\n",
    "import numpy as np\n",
    "import seaborn as sns\n",
    "import plotly.offline as pyo \n",
    "import plotly.graph_objs as go\n",
    "import plotly.figure_factory as ff\n",
    "from matplotlib.colors import ListedColormap"
   ]
  },
  {
   "cell_type": "code",
   "execution_count": 2,
   "metadata": {},
   "outputs": [
    {
     "data": {
      "text/html": [
       "<div>\n",
       "<style scoped>\n",
       "    .dataframe tbody tr th:only-of-type {\n",
       "        vertical-align: middle;\n",
       "    }\n",
       "\n",
       "    .dataframe tbody tr th {\n",
       "        vertical-align: top;\n",
       "    }\n",
       "\n",
       "    .dataframe thead th {\n",
       "        text-align: right;\n",
       "    }\n",
       "</style>\n",
       "<table border=\"1\" class=\"dataframe\">\n",
       "  <thead>\n",
       "    <tr style=\"text-align: right;\">\n",
       "      <th></th>\n",
       "      <th>age</th>\n",
       "      <th>sex</th>\n",
       "      <th>cp</th>\n",
       "      <th>trestbps</th>\n",
       "      <th>chol</th>\n",
       "      <th>fbs</th>\n",
       "      <th>restecg</th>\n",
       "      <th>thalach</th>\n",
       "      <th>exang</th>\n",
       "      <th>oldpeak</th>\n",
       "      <th>slope</th>\n",
       "      <th>ca</th>\n",
       "      <th>thal</th>\n",
       "      <th>target</th>\n",
       "    </tr>\n",
       "  </thead>\n",
       "  <tbody>\n",
       "    <tr>\n",
       "      <th>0</th>\n",
       "      <td>63</td>\n",
       "      <td>1</td>\n",
       "      <td>3</td>\n",
       "      <td>145</td>\n",
       "      <td>233</td>\n",
       "      <td>1</td>\n",
       "      <td>0</td>\n",
       "      <td>150</td>\n",
       "      <td>0</td>\n",
       "      <td>2.3</td>\n",
       "      <td>0</td>\n",
       "      <td>0</td>\n",
       "      <td>1</td>\n",
       "      <td>1</td>\n",
       "    </tr>\n",
       "    <tr>\n",
       "      <th>1</th>\n",
       "      <td>37</td>\n",
       "      <td>1</td>\n",
       "      <td>2</td>\n",
       "      <td>130</td>\n",
       "      <td>250</td>\n",
       "      <td>0</td>\n",
       "      <td>1</td>\n",
       "      <td>187</td>\n",
       "      <td>0</td>\n",
       "      <td>3.5</td>\n",
       "      <td>0</td>\n",
       "      <td>0</td>\n",
       "      <td>2</td>\n",
       "      <td>1</td>\n",
       "    </tr>\n",
       "    <tr>\n",
       "      <th>2</th>\n",
       "      <td>41</td>\n",
       "      <td>0</td>\n",
       "      <td>1</td>\n",
       "      <td>130</td>\n",
       "      <td>204</td>\n",
       "      <td>0</td>\n",
       "      <td>0</td>\n",
       "      <td>172</td>\n",
       "      <td>0</td>\n",
       "      <td>1.4</td>\n",
       "      <td>2</td>\n",
       "      <td>0</td>\n",
       "      <td>2</td>\n",
       "      <td>1</td>\n",
       "    </tr>\n",
       "    <tr>\n",
       "      <th>3</th>\n",
       "      <td>56</td>\n",
       "      <td>1</td>\n",
       "      <td>1</td>\n",
       "      <td>120</td>\n",
       "      <td>236</td>\n",
       "      <td>0</td>\n",
       "      <td>1</td>\n",
       "      <td>178</td>\n",
       "      <td>0</td>\n",
       "      <td>0.8</td>\n",
       "      <td>2</td>\n",
       "      <td>0</td>\n",
       "      <td>2</td>\n",
       "      <td>1</td>\n",
       "    </tr>\n",
       "    <tr>\n",
       "      <th>4</th>\n",
       "      <td>57</td>\n",
       "      <td>0</td>\n",
       "      <td>0</td>\n",
       "      <td>120</td>\n",
       "      <td>354</td>\n",
       "      <td>0</td>\n",
       "      <td>1</td>\n",
       "      <td>163</td>\n",
       "      <td>1</td>\n",
       "      <td>0.6</td>\n",
       "      <td>2</td>\n",
       "      <td>0</td>\n",
       "      <td>2</td>\n",
       "      <td>1</td>\n",
       "    </tr>\n",
       "  </tbody>\n",
       "</table>\n",
       "</div>"
      ],
      "text/plain": [
       "   age  sex  cp  trestbps  chol  fbs  restecg  thalach  exang  oldpeak  slope  \\\n",
       "0   63    1   3       145   233    1        0      150      0      2.3      0   \n",
       "1   37    1   2       130   250    0        1      187      0      3.5      0   \n",
       "2   41    0   1       130   204    0        0      172      0      1.4      2   \n",
       "3   56    1   1       120   236    0        1      178      0      0.8      2   \n",
       "4   57    0   0       120   354    0        1      163      1      0.6      2   \n",
       "\n",
       "   ca  thal  target  \n",
       "0   0     1       1  \n",
       "1   0     2       1  \n",
       "2   0     2       1  \n",
       "3   0     2       1  \n",
       "4   0     2       1  "
      ]
     },
     "execution_count": 2,
     "metadata": {},
     "output_type": "execute_result"
    }
   ],
   "source": [
    "# loading dataset\n",
    "\n",
    "data = pd.read_csv(\"heartdisease.csv\")\n",
    "data.head()"
   ]
  },
  {
   "cell_type": "code",
   "execution_count": 3,
   "metadata": {},
   "outputs": [
    {
     "name": "stdout",
     "output_type": "stream",
     "text": [
      "Number of rows 303\n",
      "Number of columns 14\n"
     ]
    }
   ],
   "source": [
    "## data shape\n",
    "row, columns = data.shape \n",
    "print ('Number of rows', row)\n",
    "print ('Number of columns', columns)\n",
    "\n",
    "\n"
   ]
  },
  {
   "cell_type": "code",
   "execution_count": 4,
   "metadata": {},
   "outputs": [
    {
     "name": "stdout",
     "output_type": "stream",
     "text": [
      "          count        mean        std    min    25%    50%    75%    max\n",
      "age       303.0   54.366337   9.082101   29.0   47.5   55.0   61.0   77.0\n",
      "sex       303.0    0.683168   0.466011    0.0    0.0    1.0    1.0    1.0\n",
      "cp        303.0    0.966997   1.032052    0.0    0.0    1.0    2.0    3.0\n",
      "trestbps  303.0  131.623762  17.538143   94.0  120.0  130.0  140.0  200.0\n",
      "chol      303.0  246.264026  51.830751  126.0  211.0  240.0  274.5  564.0\n",
      "fbs       303.0    0.148515   0.356198    0.0    0.0    0.0    0.0    1.0\n",
      "restecg   303.0    0.528053   0.525860    0.0    0.0    1.0    1.0    2.0\n",
      "thalach   303.0  149.646865  22.905161   71.0  133.5  153.0  166.0  202.0\n",
      "exang     303.0    0.326733   0.469794    0.0    0.0    0.0    1.0    1.0\n",
      "oldpeak   303.0    1.039604   1.161075    0.0    0.0    0.8    1.6    6.2\n",
      "slope     303.0    1.399340   0.616226    0.0    1.0    1.0    2.0    2.0\n",
      "ca        303.0    0.729373   1.022606    0.0    0.0    0.0    1.0    4.0\n",
      "thal      303.0    2.313531   0.612277    0.0    2.0    2.0    3.0    3.0\n",
      "target    303.0    0.544554   0.498835    0.0    0.0    1.0    1.0    1.0\n"
     ]
    }
   ],
   "source": [
    "# Data descriptions \n",
    "print(data.describe().T)\n",
    "\n"
   ]
  },
  {
   "cell_type": "code",
   "execution_count": 5,
   "metadata": {},
   "outputs": [
    {
     "name": "stdout",
     "output_type": "stream",
     "text": [
      "age           int64\n",
      "sex           int64\n",
      "cp            int64\n",
      "trestbps      int64\n",
      "chol          int64\n",
      "fbs           int64\n",
      "restecg       int64\n",
      "thalach       int64\n",
      "exang         int64\n",
      "oldpeak     float64\n",
      "slope         int64\n",
      "ca            int64\n",
      "thal          int64\n",
      "target        int64\n",
      "dtype: object\n"
     ]
    }
   ],
   "source": [
    "#data types\n",
    "print (data.dtypes)"
   ]
  },
  {
   "cell_type": "code",
   "execution_count": 6,
   "metadata": {},
   "outputs": [
    {
     "name": "stdout",
     "output_type": "stream",
     "text": [
      "Nagative positive : target\n",
      "0    138\n",
      "1    165\n",
      "dtype: int64\n"
     ]
    }
   ],
   "source": [
    "# Coulumn with class values\n",
    "data_size=data.groupby('target').size()\n",
    "print ('Nagative', 'positive', ':', data_size)"
   ]
  },
  {
   "cell_type": "code",
   "execution_count": 7,
   "metadata": {},
   "outputs": [],
   "source": [
    "##copying data\n",
    "data_copy= data.copy(deep=True)"
   ]
  },
  {
   "cell_type": "code",
   "execution_count": 8,
   "metadata": {},
   "outputs": [
    {
     "name": "stdout",
     "output_type": "stream",
     "text": [
      "Column name target : target\n",
      "0    138\n",
      "1    165\n",
      "dtype: int64\n",
      "Column name sex : sex\n",
      "0     96\n",
      "1    207\n",
      "dtype: int64\n",
      "Column name sex : sex\n",
      "0     96\n",
      "1    207\n",
      "dtype: int64\n"
     ]
    }
   ],
   "source": [
    "# Coulumn with categorical values\n",
    "data_size=data_copy.groupby('target').size()\n",
    "print ('Column name', 'target', ':', data_size)\n",
    "\n",
    "data_size=data_copy.groupby('sex').size()\n",
    "print ('Column name', 'sex', ':', data_size)\n",
    "\n",
    "data_size=data_copy.groupby('sex').size()\n",
    "print ('Column name', 'sex', ':', data_size)"
   ]
  },
  {
   "cell_type": "code",
   "execution_count": 9,
   "metadata": {},
   "outputs": [
    {
     "name": "stdout",
     "output_type": "stream",
     "text": [
      "['age', 'sex', 'cp', 'trestbps', 'chol', 'fbs', 'restecg', 'thalach', 'exang', 'oldpeak', 'slope', 'ca', 'thal', 'target']\n"
     ]
    }
   ],
   "source": [
    "print(list(data_copy.columns.values.tolist()))"
   ]
  },
  {
   "cell_type": "code",
   "execution_count": 10,
   "metadata": {},
   "outputs": [
    {
     "name": "stdout",
     "output_type": "stream",
     "text": [
      "age 0\n",
      "sex 0\n",
      "cp 0\n",
      "trestbps 0\n",
      "chol 0\n",
      "fbs 0\n",
      "restecg 0\n",
      "thalach 0\n",
      "exang 0\n",
      "oldpeak 0\n",
      "slope 0\n",
      "ca 0\n",
      "thal 0\n",
      "target 0\n"
     ]
    }
   ],
   "source": [
    "columns_names=['age', 'sex', 'cp', 'trestbps', 'chol', 'fbs', 'restecg', 'thalach', 'exang', 'oldpeak', 'slope', 'ca', 'thal', 'target']\n",
    "\n",
    "for items in columns_names:\n",
    "    missingvalues= data[items].isnull().sum()\n",
    "    print (items, missingvalues)"
   ]
  },
  {
   "cell_type": "code",
   "execution_count": 11,
   "metadata": {},
   "outputs": [
    {
     "name": "stdout",
     "output_type": "stream",
     "text": [
      "[('0', (0.19460784313725488, 0.45343137254901944, 0.632843137254902, 1.0)), ('1', (0.8818627450980391, 0.5053921568627451, 0.17303921568627467, 1.0))]\n"
     ]
    },
    {
     "data": {
      "image/png": "[encoded data removed]",
      "text/plain": [
       "<Figure size 1080x576 with 1 Axes>"
      ]
     },
     "metadata": {
      "needs_background": "light"
     },
     "output_type": "display_data"
    }
   ],
   "source": [
    "class TextHandler(HandlerBase):\n",
    "    def create_artists(self, legend, tup ,xdescent, ydescent,\n",
    "                        width, height, fontsize,trans):\n",
    "        tx = Text(width/2.,height/2,tup[0], fontsize=fontsize,\n",
    "                  ha=\"center\", va=\"center\", color=tup[1], fontweight=\"bold\")\n",
    "        return [tx]\n",
    "\n",
    "## Bar plot for Column diagnosis\n",
    "sns.set_style()\n",
    "plt.figure(figsize=(15,8))\n",
    "ax=sns.countplot(x='target',data=data)\n",
    "textname= \"0 1\".split()\n",
    "labels= \"Negative Positive\".split()\n",
    "t = ax.get_xticklabels()\n",
    "labeldic = dict(zip(textname, labels))\n",
    "# print (labeldic)\n",
    "\n",
    "\n",
    "labels = [labeldic[h.get_text()]  for h in t]\n",
    "# print (labels)\n",
    "# handles = [(h.get_text(),c.get_fc()) for h,c in zip(t,ax.patches)]\n",
    "handles_list=[]\n",
    "for h,c in zip(t,ax.patches):\n",
    "    handles = h.get_text(),c.get_fc()\n",
    "    handles_list.append(handles)\n",
    "\n",
    "print (handles_list)\n",
    "\n",
    "ax.legend(handles_list, labels, handler_map={tuple : TextHandler()}) \n",
    "plt.show()"
   ]
  },
  {
   "cell_type": "code",
   "execution_count": 12,
   "metadata": {},
   "outputs": [
    {
     "name": "stdout",
     "output_type": "stream",
     "text": [
      "   age  sex  cp  trestbps  chol  fbs  restecg  thalach  exang  oldpeak  slope  \\\n",
      "0   63    1   3       145   233    1        0      150      0      2.3      0   \n",
      "1   37    1   2       130   250    0        1      187      0      3.5      0   \n",
      "2   41    0   1       130   204    0        0      172      0      1.4      2   \n",
      "3   56    1   1       120   236    0        1      178      0      0.8      2   \n",
      "4   57    0   0       120   354    0        1      163      1      0.6      2   \n",
      "\n",
      "   ca  thal  \n",
      "0   0     1  \n",
      "1   0     2  \n",
      "2   0     2  \n",
      "3   0     2  \n",
      "4   0     2  \n",
      "****\n",
      "0    1\n",
      "1    1\n",
      "2    1\n",
      "3    1\n",
      "4    1\n",
      "Name: target, dtype: int64\n"
     ]
    }
   ],
   "source": [
    "## creating training and test data set\n",
    "x = data_copy.drop(columns= 'target')\n",
    "print (x.head())\n",
    "x.shape\n",
    "print ('*'*4)\n",
    "y= data['target']\n",
    "print (y.head())"
   ]
  },
  {
   "cell_type": "code",
   "execution_count": 13,
   "metadata": {},
   "outputs": [
    {
     "name": "stdout",
     "output_type": "stream",
     "text": [
      "        age       sex        cp  trestbps      chol       fbs   restecg  \\\n",
      "0  0.952197  0.681005  1.973123  0.763956 -0.256334  2.394438 -1.005832   \n",
      "1 -1.915313  0.681005  1.002577 -0.092738  0.072199 -0.417635  0.898962   \n",
      "2 -1.474158 -1.468418  0.032031 -0.092738 -0.816773 -0.417635 -1.005832   \n",
      "3  0.180175  0.681005  0.032031 -0.663867 -0.198357 -0.417635  0.898962   \n",
      "4  0.290464 -1.468418 -0.938515 -0.663867  2.082050 -0.417635  0.898962   \n",
      "\n",
      "    thalach     exang   oldpeak     slope        ca      thal  \n",
      "0  0.015443 -0.696631  1.087338 -2.274579 -0.714429 -2.148873  \n",
      "1  1.633471 -0.696631  2.122573 -2.274579 -0.714429 -0.512922  \n",
      "2  0.977514 -0.696631  0.310912  0.976352 -0.714429 -0.512922  \n",
      "3  1.239897 -0.696631 -0.206705  0.976352 -0.714429 -0.512922  \n",
      "4  0.583939  1.435481 -0.379244  0.976352 -0.714429 -0.512922  \n"
     ]
    }
   ],
   "source": [
    "#scaling the values using Standard Scalar Library\n",
    "from sklearn import preprocessing\n",
    "x=preprocessing.StandardScaler().fit(x).transform(x.astype(float))\n",
    "print (pd.DataFrame(x, columns=['age', 'sex', 'cp', 'trestbps', 'chol', 'fbs', 'restecg', 'thalach', 'exang', 'oldpeak', 'slope', 'ca', 'thal']).head())"
   ]
  },
  {
   "cell_type": "code",
   "execution_count": 14,
   "metadata": {},
   "outputs": [
    {
     "name": "stdout",
     "output_type": "stream",
     "text": [
      "x_train: 212\n",
      "x_test: 91\n",
      "y_train: 212\n",
      "y_test: 91\n"
     ]
    }
   ],
   "source": [
    "#Spliting test datase as 30%\n",
    "x_train, x_test, y_train, y_test = train_test_split(x,y,test_size=0.3, random_state=0) \n",
    "print ('x_train:',len(x_train))\n",
    "print ('x_test:',len(x_test))\n",
    "print ('y_train:',len(y_train))\n",
    "print ('y_test:',len(y_test))"
   ]
  },
  {
   "cell_type": "code",
   "execution_count": 15,
   "metadata": {},
   "outputs": [
    {
     "name": "stdout",
     "output_type": "stream",
     "text": [
      "[0.7370129870129871, 0.7878787878787878, 0.8064935064935064, 0.8303030303030303, 0.8305194805194805, 0.8443722943722942, 0.8396103896103895, 0.8350649350649351, 0.8253246753246752, 0.8350649350649351, 0.8259740259740258, 0.8257575757575758, 0.8164502164502163, 0.8305194805194805, 0.8257575757575758]\n",
      "The maximum cross validation score is 0.8443722943722942 at K = 11\n",
      "The minimum error rate is 0.15562770562770578 at K = 11\n"
     ]
    },
    {
     "data": {
      "image/png": "[encoded data removed]",
      "text/plain": [
       "<Figure size 1080x576 with 1 Axes>"
      ]
     },
     "metadata": {
      "needs_background": "light"
     },
     "output_type": "display_data"
    },
    {
     "data": {
      "image/png": "[encoded data removed]",
      "text/plain": [
       "<Figure size 1080x576 with 1 Axes>"
      ]
     },
     "metadata": {
      "needs_background": "light"
     },
     "output_type": "display_data"
    }
   ],
   "source": [
    "## KNN cross validation for K value\n",
    "For_graph={}\n",
    "cross_valscores_list=[]\n",
    "error_rate_list = []\n",
    "k_number=[]\n",
    "for i in range(1,30,2):\n",
    "    \n",
    "    knn=KNeighborsClassifier(n_neighbors=i, weights= 'uniform', algorithm = 'auto')\n",
    "    cross_val= cross_val_score(knn, x_train, y_train, cv=10, scoring = 'accuracy')\n",
    "    cross_valscores_list.append(cross_val.mean())\n",
    "    error_rate_list.append(1-cross_val.mean())\n",
    "    cross_valscores_dictdata= (i,cross_val.mean(),1-cross_val.mean(),'Heart')\n",
    "    k_number.append(i)\n",
    "    For_graph.setdefault('Heart', []).append(cross_valscores_dictdata)\n",
    "\n",
    "\n",
    "\n",
    "print (cross_valscores_list)\n",
    "\n",
    "plt.figure(figsize=(15,8))\n",
    "plt.plot(range(1,30,2), cross_valscores_list, color = 'black', linestyle='dashed', marker = 'D', markerfacecolor = 'blue', markersize = 12)\n",
    "\n",
    "plt.title('Accuracy score vs K value(Heart Dataset)')\n",
    "plt.xlabel('K value')\n",
    "plt.ylabel('Cross validation score')\n",
    "\n",
    "print (\"The maximum cross validation score is {} at K = {}\".format(max(cross_valscores_list), k_number[cross_valscores_list.index(max(cross_valscores_list))]))\n",
    "\n",
    "\n",
    "plt.figure(figsize=(15,8))\n",
    "plt.plot(range(1,30,2), error_rate_list, color = 'black', linestyle='dashed', marker = 'o', markerfacecolor = 'blue', markersize = 12)\n",
    "\n",
    "plt.title('Error rate (cross validation) vs K value (Heart Data set)')\n",
    "plt.xlabel('K value')\n",
    "plt.ylabel('Error rate')\n",
    "\n",
    "print (\"The minimum error rate is {} at K = {}\".format(min(error_rate_list), k_number[error_rate_list.index(min(error_rate_list))]))\n",
    "heart_df=pd.DataFrame(For_graph)\n",
    "#Diabetes_df\n",
    "#Diabetes_df.to_excel('Diabetes_df.xlsx')\n",
    "heart_df.to_excel(\"heart_df.xlsx\",sheet_name='Sheet_name_1')  \n"
   ]
  },
  {
   "cell_type": "code",
   "execution_count": 17,
   "metadata": {},
   "outputs": [
    {
     "name": "stdout",
     "output_type": "stream",
     "text": [
      "uniform\n",
      "The selected optimum K value is: 11\n",
      "[[32 12]\n",
      " [ 3 44]]\n"
     ]
    },
    {
     "data": {
      "image/png": "[encoded data removed]",
      "text/plain": [
       "<Figure size 1080x576 with 1 Axes>"
      ]
     },
     "metadata": {
      "needs_background": "light"
     },
     "output_type": "display_data"
    },
    {
     "name": "stdout",
     "output_type": "stream",
     "text": [
      "              precision    recall  f1-score   support\n",
      "\n",
      "           0       0.91      0.73      0.81        44\n",
      "           1       0.79      0.94      0.85        47\n",
      "\n",
      "    accuracy                           0.84        91\n",
      "   macro avg       0.85      0.83      0.83        91\n",
      "weighted avg       0.85      0.84      0.83        91\n",
      "\n",
      "****\n",
      "distance\n",
      "The selected optimum K value is: 11\n",
      "[[32 12]\n",
      " [ 3 44]]\n"
     ]
    },
    {
     "data": {
      "image/png": "[encoded data removed]",
      "text/plain": [
       "<Figure size 1080x576 with 1 Axes>"
      ]
     },
     "metadata": {
      "needs_background": "light"
     },
     "output_type": "display_data"
    },
    {
     "name": "stdout",
     "output_type": "stream",
     "text": [
      "              precision    recall  f1-score   support\n",
      "\n",
      "           0       0.91      0.73      0.81        44\n",
      "           1       0.79      0.94      0.85        47\n",
      "\n",
      "    accuracy                           0.84        91\n",
      "   macro avg       0.85      0.83      0.83        91\n",
      "weighted avg       0.85      0.84      0.83        91\n",
      "\n",
      "****\n"
     ]
    }
   ],
   "source": [
    "for weights in [\"uniform\", \"distance\"]:\n",
    "    print (weights)\n",
    "    selected_k= k_number[error_rate_list.index(min(error_rate_list))]\n",
    "    print ('The selected optimum K value is:',selected_k)\n",
    "    knn_neighnour=KNeighborsClassifier(n_neighbors=selected_k, weights= weights, algorithm = 'auto')\n",
    "    knn_neighnour.fit(x_train, y_train)\n",
    "    y_predict = knn_neighnour.predict(x_test)\n",
    "    print(confusion_matrix(y_test,y_predict))\n",
    "    cm= confusion_matrix(y_test,y_predict)\n",
    "    df = pd.DataFrame(cm, index= ['Benign', 'Malignant'], columns = ['Benign', 'Malignant'])\n",
    "    \n",
    "    plt.figure(figsize=(15,8))\n",
    "    sns.heatmap(df, annot = True, cbar = False, fmt = '.1f', linewidths = .3, square = True, cmap='YlGnBu');\n",
    "    plt.ylabel('Actual label');\n",
    "    plt.xlabel('Predicted label');\n",
    "    plt.title('Confusion Matrix using {} method'.format(weights), size = 15 );\n",
    "    b,t = plt.ylim()\n",
    "    b += 0.5\n",
    "    t-= 0.5\n",
    "    plt.ylim(b,t)\n",
    "    plt.show()\n",
    "    \n",
    "    \n",
    "    \n",
    "    print(classification_report(y_test,y_predict))  \n",
    "    print ('*'*4)"
   ]
  },
  {
   "cell_type": "code",
   "execution_count": null,
   "metadata": {},
   "outputs": [],
   "source": []
  }
 ],
 "metadata": {
  "kernelspec": {
   "display_name": "Python 3",
   "language": "python",
   "name": "python3"
  },
  "language_info": {
   "codemirror_mode": {
    "name": "ipython",
    "version": 3
   },
   "file_extension": ".py",
   "mimetype": "text/x-python",
   "name": "python",
   "nbconvert_exporter": "python",
   "pygments_lexer": "ipython3",
   "version": "3.8.5"
  }
 },
 "nbformat": 4,
 "nbformat_minor": 4
}
